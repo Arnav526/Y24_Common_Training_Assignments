{
  "nbformat": 4,
  "nbformat_minor": 0,
  "metadata": {
    "colab": {
      "provenance": []
    },
    "kernelspec": {
      "name": "python3",
      "display_name": "Python 3"
    },
    "language_info": {
      "name": "python"
    }
  },
  "cells": [
    {
      "cell_type": "code",
      "execution_count": null,
      "metadata": {
        "id": "BUQmM3pC4W4g"
      },
      "outputs": [],
      "source": [
        "import cv2\n",
        "\n",
        "def image_to_braille(p=\"img.png\", o=\"braille_art2.txt\", t=127):\n",
        "    base = 0x2800\n",
        "    dots = [(0,0,0),(0,1,1),(0,2,2),(1,0,3),(1,1,4),(1,2,5),(0,3,6),(1,3,7)]\n",
        "    img = cv2.imread(p, 0)\n",
        "    h, w = img.shape\n",
        "    img = cv2.resize(img, (w - w % 2, h - h % 4))\n",
        "    lines = []\n",
        "    for y in range(0, img.shape[0], 4):\n",
        "        line = ''\n",
        "        for x in range(0, img.shape[1], 2):\n",
        "            val = sum(1 << b for dx, dy, b in dots if img[y+dy, x+dx] < t)\n",
        "            line += chr(base + val)\n",
        "        lines.append(line)\n",
        "    with open(o, 'w', encoding='utf-8') as f:\n",
        "        f.write('\\n'.join(lines))\n",
        "    print(f\"Braille Art saved to {o}\")\n",
        "\n",
        "image_to_braille()\n"
      ]
    }
  ]
}